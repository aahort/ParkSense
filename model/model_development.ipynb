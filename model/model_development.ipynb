{
  "nbformat": 4,
  "nbformat_minor": 0,
  "metadata": {
    "colab": {
      "provenance": []
    },
    "kernelspec": {
      "name": "python3",
      "display_name": "Python 3"
    },
    "language_info": {
      "name": "python"
    }
  },
  "cells": [
    {
      "cell_type": "code",
      "source": [
        "'''\n",
        "Name: model-development.(ipynb/py)\n",
        "Description: Notebook for continuous model development, tweaking, and testing\n",
        "Authors: Landen Doty, Sepehr Noori\n",
        "Date: 10/22/23\n",
        "'''"
      ],
      "metadata": {
        "id": "tsvEVgiHrKOp"
      },
      "execution_count": null,
      "outputs": []
    },
    {
      "cell_type": "markdown",
      "source": [
        "# Import Packages"
      ],
      "metadata": {
        "id": "37sNVbIGdO66"
      }
    },
    {
      "cell_type": "code",
      "execution_count": 2,
      "metadata": {
        "colab": {
          "base_uri": "https://localhost:8080/"
        },
        "id": "XF3cEpeCdJ8-",
        "outputId": "7f8803db-f5c1-429d-a72c-a07fdb5a80cf"
      },
      "outputs": [
        {
          "output_type": "stream",
          "name": "stdout",
          "text": [
            "Colab only includes TensorFlow 2.x; %tensorflow_version has no effect.\n"
          ]
        }
      ],
      "source": [
        "try:\n",
        "  # %tensorflow_version only exists in Colab.\n",
        "  %tensorflow_version 2.x\n",
        "except Exception:\n",
        "  pass\n",
        "\n",
        "import tensorflow as tf\n",
        "from tensorflow.keras import datasets, layers, models\n",
        "import matplotlib.pyplot as plt"
      ]
    },
    {
      "cell_type": "markdown",
      "source": [
        "# Import Data from Drive"
      ],
      "metadata": {
        "id": "rtABIzUCeMji"
      }
    },
    {
      "cell_type": "code",
      "source": [
        "import os\n",
        "import zipfile\n",
        "# mounting local google drive\n",
        "from google.colab import drive\n",
        "drive.mount('/content/drive')\n",
        "\n",
        "# copying local drive data to colab\n",
        "!mkdir /tmp/data"
      ],
      "metadata": {
        "id": "bbHHVGsrdYY0",
        "colab": {
          "base_uri": "https://localhost:8080/"
        },
        "outputId": "461fd0bc-a33b-42ff-df2b-be9e64330496"
      },
      "execution_count": 3,
      "outputs": [
        {
          "output_type": "stream",
          "name": "stdout",
          "text": [
            "Mounted at /content/drive\n"
          ]
        }
      ]
    },
    {
      "cell_type": "markdown",
      "source": [
        "# Binary Cars"
      ],
      "metadata": {
        "id": "Nlg8ci0De9aO"
      }
    },
    {
      "cell_type": "markdown",
      "source": [],
      "metadata": {
        "id": "kQDpVlpDhAL9"
      }
    },
    {
      "cell_type": "code",
      "source": [
        "# Unzip and store data on colab instance\n",
        "!cp \"/content/drive/MyDrive/Colab Notebooks/ParkSense/vehicle_detection_data.zip\" \"/tmp/data/\"\n",
        "zip_file = '/tmp/data/vehicle_detection_data.zip'\n",
        "zip_ref = zipfile.ZipFile(zip_file, 'r')\n",
        "zip_ref.extractall('/tmp/data/vehicle_data')\n",
        "zip_ref.close()"
      ],
      "metadata": {
        "id": "YkK9qdIXgzay"
      },
      "execution_count": 97,
      "outputs": []
    },
    {
      "cell_type": "markdown",
      "source": [],
      "metadata": {
        "id": "oLlP5GgPg4AR"
      }
    },
    {
      "cell_type": "code",
      "source": [
        "# path to datasets\n",
        "vehicle = '/tmp/data/vehicle_data/data/vehicles/'\n",
        "non_vehicle = '/tmp/data/vehicle_data/data/non-vehicles/'\n"
      ],
      "metadata": {
        "id": "VEoD1_B-e8-i"
      },
      "execution_count": 98,
      "outputs": []
    },
    {
      "cell_type": "markdown",
      "source": [
        "# Split Dataset into training and validation"
      ],
      "metadata": {
        "id": "QPh-u2SMq_Ot"
      }
    },
    {
      "cell_type": "code",
      "source": [
        "! bash /content/drive/MyDrive/Colab\\ Notebooks/ParkSense/setup-data.sh"
      ],
      "metadata": {
        "id": "0nEPQWH8szjC"
      },
      "execution_count": null,
      "outputs": []
    },
    {
      "cell_type": "code",
      "source": [
        "! rm -r /tmp/data/vehicle_data/data/vehicles\n",
        "! rm -r /tmp/data/vehicle_data/data/non-vehicles/"
      ],
      "metadata": {
        "id": "ctpMXDK6yQUx"
      },
      "execution_count": 7,
      "outputs": []
    },
    {
      "cell_type": "code",
      "source": [
        "!cp \"/content/drive/MyDrive/Colab Notebooks/ParkSense/stanford_car_data.zip\" \"/tmp/data/\"\n",
        "zip_file = '/tmp/data/stanford_car_data.zip'\n",
        "zip_ref = zipfile.ZipFile(zip_file, 'r')\n",
        "zip_ref.extractall(\"/tmp/data/stanford_cars\")"
      ],
      "metadata": {
        "id": "unSmgNsp3RnA"
      },
      "execution_count": 100,
      "outputs": []
    },
    {
      "cell_type": "markdown",
      "source": [
        "# Data Generators"
      ],
      "metadata": {
        "id": "yL4Fn9gameoB"
      }
    },
    {
      "cell_type": "code",
      "source": [
        "from tensorflow.keras.preprocessing.image import ImageDataGenerator\n",
        "\n",
        "# Create training and validation data generators\n",
        "# Currently normalizes images, but commented lines can be used for image augmentation if our model requires re-training with more creative datasets\n",
        "\n",
        "# validation split allows us to use 25% of the specified dir. for training\n",
        "train_datagen = ImageDataGenerator(\n",
        "      rescale=1./255,\n",
        "      validation_split=.75\n",
        "      #rotation_range=40,\n",
        "      #width_shift_range=0.2,\n",
        "      #height_shift_range=0.2,\n",
        "      #shear_range=0.2,\n",
        "      #zoom_range=0.2,\n",
        "      #horizontal_flip=True,\n",
        "      #fill_mode='nearest'\n",
        "      )\n",
        "\n",
        "# validation split allows us to use 25% of the specified dir. for validation\n",
        "validation_datagen = ImageDataGenerator(\n",
        "      rescale=1./255,\n",
        "      validation_split=.25\n",
        "      #rotation_range=40,\n",
        "      #width_shift_range=0.2,\n",
        "      #height_shift_range=0.2,\n",
        "      #shear_range=0.2,\n",
        "      #zoom_range=0.2,\n",
        "      #horizontal_flip=True,\n",
        "      #fill_mode='nearest'\n",
        "      )\n",
        "\n",
        "# generate images from our extracted data set\n",
        "# VGG16 used 150x150x3 input image size\n",
        "\n",
        "# ResNet50\n",
        "\n",
        "# training images\n",
        "train_generator = train_datagen.flow_from_directory(\n",
        "        '/tmp/data/vehicle_data/data/training/',\n",
        "        target_size=(96, 96),\n",
        "        batch_size=32,\n",
        "        subset='training',\n",
        "        class_mode='binary')\n",
        "\n",
        "# validation images\n",
        "validation_generator = validation_datagen.flow_from_directory(\n",
        "        '/tmp/data/vehicle_data/data/test/',\n",
        "        target_size=(96, 96),\n",
        "        batch_size=32,\n",
        "        subset='validation',\n",
        "        class_mode='binary')"
      ],
      "metadata": {
        "id": "00vjwQ0HldjP",
        "colab": {
          "base_uri": "https://localhost:8080/"
        },
        "outputId": "df7bdcfe-610d-46c1-db00-45988755c03d"
      },
      "execution_count": 11,
      "outputs": [
        {
          "output_type": "stream",
          "name": "stdout",
          "text": [
            "Found 2220 images belonging to 2 classes.\n",
            "Found 2220 images belonging to 2 classes.\n"
          ]
        }
      ]
    },
    {
      "cell_type": "code",
      "source": [
        "! ls /tmp/data/vehicle_data/data/test/non-vehicles/ | wc -l\n",
        "! ls /tmp/data/vehicle_data/data/test/vehicles/ | wc -l"
      ],
      "metadata": {
        "colab": {
          "base_uri": "https://localhost:8080/"
        },
        "id": "u0GRvuMj0Pqc",
        "outputId": "d11ae9ca-a0c6-47eb-be62-f5236936f8e9"
      },
      "execution_count": null,
      "outputs": [
        {
          "output_type": "stream",
          "name": "stdout",
          "text": [
            "4484\n",
            "4396\n"
          ]
        }
      ]
    },
    {
      "cell_type": "markdown",
      "source": [
        "# Define and Train Model"
      ],
      "metadata": {
        "id": "SCn47fdc0pfz"
      }
    },
    {
      "cell_type": "markdown",
      "source": [
        "## ResNet 50\n"
      ],
      "metadata": {
        "id": "rDzxkhJ8ssG2"
      }
    },
    {
      "cell_type": "code",
      "source": [
        "import tensorflow_hub as hub\n",
        "import tensorflow_datasets as tfds\n",
        "\n",
        "from tensorflow.keras.applications import ResNet50\n",
        "\n",
        "IMAGE_SHAPE = (64,48)\n",
        "#Using ResNet50 as our base model\n",
        "base_model = ResNet50(weights=\"imagenet\", include_top=False, input_shape=IMAGE_SHAPE+(3,))\n",
        "base_model.trainable = False\n",
        "\n",
        "\n",
        "model = tf.keras.Sequential([\n",
        "        base_model,\n",
        "        tf.keras.layers.Flatten(),\n",
        "        tf.keras.layers.Dense(10, activation='relu'),\n",
        "        tf.keras.layers.Dense(1, activation='sigmoid')\n",
        "])\n",
        "\n",
        "model.summary()\n",
        "\n",
        "model.compile(loss='binary_crossentropy',\n",
        "              optimizer=tf.keras.optimizers.RMSprop(learning_rate=0.0001),\n",
        "              metrics=['acc'])"
      ],
      "metadata": {
        "id": "jt_5Qy2t61Xa"
      },
      "execution_count": null,
      "outputs": []
    },
    {
      "cell_type": "code",
      "source": [
        "history = model.fit(\n",
        "      train_generator,\n",
        "      epochs=10,\n",
        "      validation_data=validation_generator)"
      ],
      "metadata": {
        "id": "-iPNZC-0sFcC"
      },
      "execution_count": null,
      "outputs": []
    },
    {
      "cell_type": "markdown",
      "source": [
        "##Save model\n"
      ],
      "metadata": {
        "id": "hdWvlOe0hcDJ"
      }
    },
    {
      "cell_type": "code",
      "source": [
        "resnet50_saved_model = \"/content/drive/MyDrive/Colab Notebooks/ParkSense/models/resnet50_saved_model\"\n",
        "tf.saved_model.save(model,resnet50_saved_model)"
      ],
      "metadata": {
        "id": "j0spSQZ4yYH1"
      },
      "execution_count": null,
      "outputs": []
    },
    {
      "cell_type": "markdown",
      "source": [
        "## Training Accuracy"
      ],
      "metadata": {
        "id": "WpASBVKThZcG"
      }
    },
    {
      "cell_type": "code",
      "source": [
        "import matplotlib.pyplot as plt\n",
        "\n",
        "history = model.history\n",
        "# Get the training and validation accuracy from the history object\n",
        "train_accuracy = history.history['acc']\n",
        "validation_accuracy = history.history['val_acc']\n",
        "\n",
        "# Plot the training and validation accuracy\n",
        "plt.plot(train_accuracy, label='Training Accuracy')\n",
        "plt.plot(validation_accuracy, label='Validation Accuracy')\n",
        "\n",
        "# Set the title and labels\n",
        "plt.title('Training and Validation Accuracy')\n",
        "plt.xlabel('Epoch')\n",
        "plt.ylabel('Accuracy')\n",
        "\n",
        "# Show the plot\n",
        "plt.legend()\n",
        "plt.show()"
      ],
      "metadata": {
        "id": "-T9GgXHshYjE",
        "colab": {
          "base_uri": "https://localhost:8080/",
          "height": 472
        },
        "outputId": "0e85f9bc-6ce9-4105-9780-fcc9e682c7d6"
      },
      "execution_count": null,
      "outputs": [
        {
          "output_type": "display_data",
          "data": {
            "text/plain": [
              "<Figure size 640x480 with 1 Axes>"
            ],
            "image/png": "[encoded data removed]"
          },
          "metadata": {}
        }
      ]
    },
    {
      "cell_type": "markdown",
      "source": [
        "## Testing\n"
      ],
      "metadata": {
        "id": "XeSV1KY5yzIn"
      }
    },
    {
      "cell_type": "code",
      "source": [
        "from tensorflow.keras.preprocessing.image import ImageDataGenerator\n",
        "import numpy as np\n",
        "\n",
        "test_datagen = ImageDataGenerator(\n",
        "      rescale=1./255,\n",
        "      validation_split=.1\n",
        "      #rotation_range=40,\n",
        "      #width_shift_range=0.2,\n",
        "      #height_shift_range=0.2,\n",
        "      #shear_range=0.2,\n",
        "      #zoom_range=0.2,\n",
        "      #horizontal_flip=True,\n",
        "      #fill_mode='nearest'\n",
        "      )\n",
        "\n",
        "test_generator = test_datagen.flow_from_directory(\n",
        "        '/tmp/data/vehicle_data/data/test/',\n",
        "        target_size=(64, 48),\n",
        "        batch_size=32,\n",
        "        subset='validation',\n",
        "        class_mode='binary')\n",
        "\n",
        "test_images=np.concatenate([test_generator.next()[0] for i in range(test_generator.__len__())])\n",
        "test_labels=np.concatenate([test_generator.next()[1] for i in range(test_generator.__len__())])\n",
        "print(test_images.shape)\n",
        "print(test_labels.shape)"
      ],
      "metadata": {
        "colab": {
          "base_uri": "https://localhost:8080/"
        },
        "id": "W_4veHMR1GvN",
        "outputId": "cb19be9a-0c1d-4a14-c3da-bfd5ac7e28af"
      },
      "execution_count": null,
      "outputs": [
        {
          "output_type": "stream",
          "name": "stdout",
          "text": [
            "Found 887 images belonging to 2 classes.\n",
            "(887, 64, 48, 3)\n",
            "(887,)\n"
          ]
        }
      ]
    },
    {
      "cell_type": "code",
      "source": [
        "import math\n",
        "\n",
        "predictions = model.predict_on_batch(test_images)\n",
        "correct = 0\n",
        "\n",
        "for i in range(len(predictions)):\n",
        "  pred = predictions[i][0]\n",
        "  if pred > 0.5:\n",
        "    if math.ceil(pred) == test_labels[i]:\n",
        "      correct += 1\n",
        "  elif math.floor(pred) == test_labels[i]:\n",
        "    correct += 1\n",
        "\n",
        "print(f\"Correct predictions: {correct}\")\n",
        "print(f\"Accuracy: {correct/len(predictions)}\")"
      ],
      "metadata": {
        "colab": {
          "base_uri": "https://localhost:8080/"
        },
        "id": "kHs7yW7F11J4",
        "outputId": "ddabb14e-3925-4a05-fc74-9941f2304778"
      },
      "execution_count": null,
      "outputs": [
        {
          "output_type": "stream",
          "name": "stdout",
          "text": [
            "Correct predictions: 441\n",
            "Accuracy: 0.4971815107102593\n"
          ]
        }
      ]
    },
    {
      "cell_type": "markdown",
      "source": [
        "#Convert Model"
      ],
      "metadata": {
        "id": "66ANjqdghhsC"
      }
    },
    {
      "cell_type": "code",
      "source": [
        "#Converter quantization and optimized for size\n",
        "import pathlib\n",
        "\n",
        "converter = tf.lite.TFLiteConverter.from_saved_model(resnet50_saved_model)\n",
        "converter.optimizations = [tf.lite.Optimize.DEFAULT]\n",
        "\n",
        "tflite_models_dir = pathlib.Path(\"/tmp/\")\n",
        "tflite_model = converter.convert()\n",
        "tflite_model_file = tflite_models_dir/'resnet50_parksense.tflite'\n",
        "tflite_model_file.write_bytes(tflite_model)"
      ],
      "metadata": {
        "id": "pgL4k_EIhtHw",
        "colab": {
          "base_uri": "https://localhost:8080/"
        },
        "outputId": "762454a7-681d-4751-c147-a4f6553af440"
      },
      "execution_count": null,
      "outputs": [
        {
          "output_type": "execute_result",
          "data": {
            "text/plain": [
              "24004488"
            ]
          },
          "metadata": {},
          "execution_count": 68
        }
      ]
    },
    {
      "cell_type": "markdown",
      "source": [
        "# MobileNet v2"
      ],
      "metadata": {
        "id": "jyUTN480uoDx"
      }
    },
    {
      "cell_type": "code",
      "source": [
        "import tensorflow_hub as hub\n",
        "import tensorflow_datasets as tfds\n",
        "from tensorflow.keras.optimizers import RMSprop\n",
        "\n",
        "MODULE_HANDLE =\"https://tfhub.dev/google/imagenet/mobilenet_v2_050_96/feature_vector/5\"\n",
        "IMAGE_SHAPE = (96,96)\n",
        "\n",
        "print(\"Using {} with input size {} \".format(MODULE_HANDLE, IMAGE_SHAPE))\n",
        "\n",
        "base_model = hub.KerasLayer(MODULE_HANDLE,\n",
        "                                   input_shape=IMAGE_SHAPE + (3,),\n",
        "                                   trainable=False)\n",
        "\n",
        "print(\"Building model with\", MODULE_HANDLE)\n",
        "\n",
        "model = tf.keras.Sequential([\n",
        "        base_model,\n",
        "        tf.keras.layers.Flatten(),\n",
        "        tf.keras.layers.Dense(10, activation='relu'),\n",
        "        tf.keras.layers.Dense(1, activation='sigmoid')\n",
        "])\n",
        "\n",
        "model.summary()\n",
        "\n",
        "model.compile(loss='binary_crossentropy',\n",
        "              optimizer=RMSprop(learning_rate=0.0001),\n",
        "              metrics=['acc'])"
      ],
      "metadata": {
        "colab": {
          "base_uri": "https://localhost:8080/"
        },
        "id": "NPmqKE9Dsw-9",
        "outputId": "82ba94ff-6053-430f-c062-f190bed9440f"
      },
      "execution_count": 31,
      "outputs": [
        {
          "output_type": "stream",
          "name": "stdout",
          "text": [
            "Using https://tfhub.dev/google/imagenet/mobilenet_v2_050_96/feature_vector/5 with input size (96, 96) \n",
            "Building model with https://tfhub.dev/google/imagenet/mobilenet_v2_050_96/feature_vector/5\n",
            "Model: \"sequential_7\"\n",
            "_________________________________________________________________\n",
            " Layer (type)                Output Shape              Param #   \n",
            "=================================================================\n",
            " keras_layer_7 (KerasLayer)  (None, 1280)              706224    \n",
            "                                                                 \n",
            " flatten_6 (Flatten)         (None, 1280)              0         \n",
            "                                                                 \n",
            " dense_7 (Dense)             (None, 10)                12810     \n",
            "                                                                 \n",
            " dense_8 (Dense)             (None, 1)                 11        \n",
            "                                                                 \n",
            "=================================================================\n",
            "Total params: 719045 (2.74 MB)\n",
            "Trainable params: 12821 (50.08 KB)\n",
            "Non-trainable params: 706224 (2.69 MB)\n",
            "_________________________________________________________________\n"
          ]
        }
      ]
    },
    {
      "cell_type": "code",
      "source": [
        "history = model.fit(\n",
        "      train_generator,\n",
        "      epochs=5,\n",
        "      validation_data=validation_generator)"
      ],
      "metadata": {
        "colab": {
          "base_uri": "https://localhost:8080/"
        },
        "id": "3D1VAAdFuvLu",
        "outputId": "9be3ae3d-6915-460e-a211-55c9fa371ed5"
      },
      "execution_count": 32,
      "outputs": [
        {
          "output_type": "stream",
          "name": "stdout",
          "text": [
            "Epoch 1/5\n",
            "70/70 [==============================] - 23s 270ms/step - loss: 0.4405 - acc: 0.8041 - val_loss: 0.2759 - val_acc: 0.9761\n",
            "Epoch 2/5\n",
            "70/70 [==============================] - 17s 241ms/step - loss: 0.1715 - acc: 0.9928 - val_loss: 0.1221 - val_acc: 0.9977\n",
            "Epoch 3/5\n",
            "70/70 [==============================] - 18s 253ms/step - loss: 0.0731 - acc: 0.9973 - val_loss: 0.0543 - val_acc: 0.9982\n",
            "Epoch 4/5\n",
            "70/70 [==============================] - 20s 278ms/step - loss: 0.0319 - acc: 0.9991 - val_loss: 0.0258 - val_acc: 0.9982\n",
            "Epoch 5/5\n",
            "70/70 [==============================] - 16s 236ms/step - loss: 0.0151 - acc: 0.9995 - val_loss: 0.0136 - val_acc: 0.9986\n"
          ]
        }
      ]
    },
    {
      "cell_type": "code",
      "source": [
        "mobilenetv2_saved_model = \"/content/drive/MyDrive/Colab Notebooks/ParkSense/models/mobilenetv2_saved_model\"\n",
        "tf.saved_model.save(model,mobilenetv2_saved_model)"
      ],
      "metadata": {
        "id": "WSxBXZHKu0zF"
      },
      "execution_count": 130,
      "outputs": []
    },
    {
      "cell_type": "markdown",
      "source": [
        "### Training Accuracy"
      ],
      "metadata": {
        "id": "JsziMLf2vQwn"
      }
    },
    {
      "cell_type": "code",
      "source": [
        "import matplotlib.pyplot as plt\n",
        "\n",
        "history = model.history\n",
        "# Get the training and validation accuracy from the history object\n",
        "train_accuracy = history.history['acc']\n",
        "validation_accuracy = history.history['val_acc']\n",
        "\n",
        "# Plot the training and validation accuracy\n",
        "plt.plot(train_accuracy, label='Training Accuracy')\n",
        "plt.plot(validation_accuracy, label='Validation Accuracy')\n",
        "\n",
        "# Set the title and labels\n",
        "plt.title('Training and Validation Accuracy')\n",
        "plt.xlabel('Epoch')\n",
        "plt.ylabel('Accuracy')\n",
        "\n",
        "# Show the plot\n",
        "plt.legend()\n",
        "plt.show()"
      ],
      "metadata": {
        "colab": {
          "base_uri": "https://localhost:8080/",
          "height": 472
        },
        "outputId": "4bab01c9-6d64-4d9f-ff4f-ab539a22ea42",
        "id": "PGPz1b1Fu4RO"
      },
      "execution_count": 131,
      "outputs": [
        {
          "output_type": "display_data",
          "data": {
            "text/plain": [
              "<Figure size 640x480 with 1 Axes>"
            ],
            "image/png": "[encoded data removed]"
          },
          "metadata": {}
        }
      ]
    },
    {
      "cell_type": "markdown",
      "source": [
        "### Testing\n"
      ],
      "metadata": {
        "id": "wpFa0823vocT"
      }
    },
    {
      "cell_type": "code",
      "source": [
        "from tensorflow.keras.preprocessing.image import ImageDataGenerator\n",
        "import numpy as np\n",
        "\n",
        "test_datagen = ImageDataGenerator(\n",
        "      rescale=1./255,\n",
        "      validation_split=.1\n",
        "      #rotation_range=40,\n",
        "      #width_shift_range=0.2,\n",
        "      #height_shift_range=0.2,\n",
        "      #shear_range=0.2,\n",
        "      #zoom_range=0.2,\n",
        "      #horizontal_flip=True,\n",
        "      #fill_mode='nearest'\n",
        "      )\n",
        "\n",
        "test_generator = test_datagen.flow_from_directory(\n",
        "        '/tmp/data/stanford_cars/cars_test/',\n",
        "        target_size=(96, 96),\n",
        "        batch_size=32,\n",
        "        subset='validation',\n",
        "        class_mode='binary')\n",
        "\n",
        "test_images=np.concatenate([test_generator.next()[0] for i in range(test_generator.__len__())])\n",
        "test_labels=np.concatenate([test_generator.next()[1] for i in range(test_generator.__len__())])\n",
        "print(test_images.shape)\n",
        "print(test_labels.shape)"
      ],
      "metadata": {
        "colab": {
          "base_uri": "https://localhost:8080/"
        },
        "outputId": "7dd19b0f-31a9-4635-87d0-e20a83d7e2b0",
        "id": "Q_Y0bF2KvtHB"
      },
      "execution_count": 107,
      "outputs": [
        {
          "output_type": "stream",
          "name": "stdout",
          "text": [
            "Found 804 images belonging to 1 classes.\n",
            "(804, 96, 96, 3)\n",
            "(804,)\n"
          ]
        }
      ]
    },
    {
      "cell_type": "code",
      "source": [
        "plt.imshow(test_images[146])"
      ],
      "metadata": {
        "colab": {
          "base_uri": "https://localhost:8080/",
          "height": 451
        },
        "id": "QZHvj8sw0AFv",
        "outputId": "19201658-20d9-4c53-8d70-4066f640a442"
      },
      "execution_count": 128,
      "outputs": [
        {
          "output_type": "execute_result",
          "data": {
            "text/plain": [
              "<matplotlib.image.AxesImage at 0x7a8b30c458a0>"
            ]
          },
          "metadata": {},
          "execution_count": 128
        },
        {
          "output_type": "display_data",
          "data": {
            "text/plain": [
              "<Figure size 640x480 with 1 Axes>"
            ],
            "image/png": "[encoded data removed]"
          },
          "metadata": {}
        }
      ]
    },
    {
      "cell_type": "code",
      "source": [
        "import math\n",
        "\n",
        "predictions = model.predict_on_batch(test_images)\n",
        "correct = 0\n",
        "\n",
        "for i in range(len(predictions)):\n",
        "  pred = predictions[i][0]\n",
        "  #print(f\"{i}, {pred}\")\n",
        "  if pred > 0.5:\n",
        "    correct += 1\n",
        "  else:\n",
        "    print(f\"Incorrect: {i}\")\n",
        "\n",
        "print(f\"Correct predictions: {correct}\")\n",
        "print(f\"Accuracy: {correct/len(predictions)}\")"
      ],
      "metadata": {
        "id": "C-ZpHmAAvyTy"
      },
      "execution_count": null,
      "outputs": []
    },
    {
      "cell_type": "markdown",
      "source": [
        "### Convert Model"
      ],
      "metadata": {
        "id": "MmWSINnew95Q"
      }
    },
    {
      "cell_type": "code",
      "source": [
        "#Converter quantization and optimized for size\n",
        "import pathlib\n",
        "\n",
        "converter = tf.lite.TFLiteConverter.from_saved_model(mobilenetv2_saved_model)\n",
        "converter.optimizations = [tf.lite.Optimize.DEFAULT]\n",
        "\n",
        "tflite_models_dir = pathlib.Path(\"/tmp/\")\n",
        "tflite_model = converter.convert()\n",
        "tflite_model_file = tflite_models_dir/'mobilenetv2_parksense.tflite'\n",
        "tflite_model_file.write_bytes(tflite_model)"
      ],
      "metadata": {
        "colab": {
          "base_uri": "https://localhost:8080/"
        },
        "outputId": "515efff6-d91c-4685-8338-4b563ed2f0d2",
        "id": "3RjiiWHFw74p"
      },
      "execution_count": 132,
      "outputs": [
        {
          "output_type": "execute_result",
          "data": {
            "text/plain": [
              "901472"
            ]
          },
          "metadata": {},
          "execution_count": 132
        }
      ]
    }
  ]
}